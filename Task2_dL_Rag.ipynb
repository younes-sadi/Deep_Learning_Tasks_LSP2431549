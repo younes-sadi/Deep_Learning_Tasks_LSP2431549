{
 "cells": [
  {
   "cell_type": "code",
   "execution_count": null,
   "id": "initial_id",
   "metadata": {
    "id": "initial_id"
   },
   "outputs": [],
   "source": [
    "import requests\n",
    "from bs4 import BeautifulSoup\n",
    "import uuid\n",
    "import time\n",
    "import pandas as pd\n",
    "from urllib.parse import urljoin\n",
    "\n",
    "def scrape_delfi_lt(categories):\n",
    "    max_articles = 5000\n",
    "    max_per_category = 2000\n",
    "    max_pages = 100\n",
    "    print(\"Starting web scraping...\")\n",
    "    articles = []\n",
    "    base_url = \"https://www.delfi.lt\"\n",
    "    seen_urls = set()\n",
    "\n",
    "    for category in categories:\n",
    "        page = 1\n",
    "        category_count = 0\n",
    "        print(f\"\\nStarting category: {category}\")\n",
    "\n",
    "        while category_count < max_per_category and len(articles) < max_articles and page <= max_pages:\n",
    "            url = f\"{base_url}/en/{category}{f'?page={page}' if page > 1 else ''}\"\n",
    "            print(f\"Scraping page {page}: {url}\")\n",
    "\n",
    "            try:\n",
    "                response = requests.get(url, headers={'User-Agent': 'Mozilla/5.0'})\n",
    "                soup = BeautifulSoup(response.content, 'html.parser')\n",
    "            except Exception as e:\n",
    "                print(f\"Failed to fetch {url}: {str(e)}\")\n",
    "                break\n",
    "\n",
    "            # Loosen article filtering to just matching category\n",
    "            article_links = [\n",
    "                urljoin(base_url, link['href'])\n",
    "                for link in soup.find_all('a', href=True)\n",
    "                if f'/en/{category}/' in link['href']\n",
    "            ]\n",
    "\n",
    "            print(f\"Found {len(article_links)} links on page {page}\")\n",
    "\n",
    "            if not article_links:\n",
    "                print(f\"No more article links on page {page}. Moving to next category.\")\n",
    "                break\n",
    "\n",
    "            for article_url in article_links:\n",
    "                if category_count >= max_per_category or len(articles) >= max_articles:\n",
    "                    break\n",
    "                if article_url in seen_urls:\n",
    "                    continue\n",
    "                seen_urls.add(article_url)\n",
    "\n",
    "                try:\n",
    "                    article_response = requests.get(article_url, headers={'User-Agent': 'Mozilla/5.0'})\n",
    "                    article_soup = BeautifulSoup(article_response.content, 'html.parser')\n",
    "\n",
    "                    title_tag = article_soup.find('h1') or article_soup.find('h2')\n",
    "\n",
    "                    # Try multiple containers for article content\n",
    "                    content_container = (\n",
    "                        article_soup.find('div', class_='delfi-article-body') or\n",
    "                        article_soup.find('div', class_='article__body') or\n",
    "                        article_soup.find('article') or\n",
    "                        article_soup.find('div', {'itemprop': 'articleBody'})\n",
    "                    )\n",
    "\n",
    "                    if title_tag and content_container:\n",
    "                        paragraphs = content_container.find_all('p')\n",
    "                        content = '\\n'.join(p.get_text(strip=True) for p in paragraphs if p.get_text(strip=True))\n",
    "\n",
    "                        if content.strip():\n",
    "                            article_data = {\n",
    "                                'id': str(uuid.uuid4()),\n",
    "                                'title': title_tag.get_text(strip=True),\n",
    "                                'content': content,\n",
    "                                'url': article_url,\n",
    "                                'category': category\n",
    "                            }\n",
    "                            articles.append(article_data)\n",
    "                            category_count += 1\n",
    "                            print(f\" Collected: {article_data['title']}\")\n",
    "\n",
    "                except Exception as e:\n",
    "                    print(f\" Failed to scrape article {article_url}: {str(e)}\")\n",
    "                    continue\n",
    "\n",
    "            page += 1\n",
    "            time.sleep(1)\n",
    "\n",
    "    print(f\"\\n Scraping complete. Total articles collected: {len(articles)}\")\n",
    "    return articles\n",
    "\n"
   ]
  },
  {
   "cell_type": "code",
   "execution_count": null,
   "id": "5c0cfc44b829ecd9",
   "metadata": {
    "colab": {
     "base_uri": "https://localhost:8080/"
    },
    "id": "5c0cfc44b829ecd9",
    "outputId": "d4bcc1af-c34b-4765-9882-237abd86c13f"
   },
   "outputs": [],
   "source": [
    "# Run scraper\n",
    "scraped_articles = scrape_delfi_lt([\"politics\", \"business\", \"sports\", \"culture\", \"lifestyle\"])\n",
    "print(f\"Collected: {len(scraped_articles)} articles total\")\n",
    "\n",
    "# Save to CSV\n",
    "if scraped_articles:\n",
    "    df = pd.DataFrame(scraped_articles)\n",
    "    df.to_csv(\"delfi_articles.csv\", index=False)\n",
    "    print(\"Saved to delfi_articles.csv \")\n",
    "else:\n",
    "    print(\"No articles found \")"
   ]
  },
  {
   "cell_type": "code",
   "execution_count": null,
   "id": "ieTtaj8-RRJi",
   "metadata": {
    "colab": {
     "base_uri": "https://localhost:8080/"
    },
    "id": "ieTtaj8-RRJi",
    "outputId": "4c379680-18d0-4175-8159-2be764951907"
   },
   "outputs": [],
   "source": [
    "# Zip directories\n",
    "!zip -r /content/delfi_articles.zip /content/delfi_articles.csv"
   ]
  },
  {
   "cell_type": "code",
   "execution_count": null,
   "id": "6JK6MTNxV_h3",
   "metadata": {
    "id": "6JK6MTNxV_h3"
   },
   "outputs": [],
   "source": [
    "!unzip -q delfi_articles.zip -d delfi_articles.csv\n"
   ]
  },
  {
   "cell_type": "code",
   "execution_count": null,
   "id": "-EDlcRRVVDSK",
   "metadata": {
    "id": "-EDlcRRVVDSK"
   },
   "outputs": [],
   "source": [
    "import pandas as pd\n",
    "\n",
    "# Load articles from csv file\n",
    "df = pd.read_csv(\"/content/delfi_articles.csv/content/delfi_articles.csv\")\n"
   ]
  },
  {
   "cell_type": "code",
   "execution_count": null,
   "id": "UsUVEeBrCcC2",
   "metadata": {
    "colab": {
     "base_uri": "https://localhost:8080/",
     "height": 1000
    },
    "id": "UsUVEeBrCcC2",
    "outputId": "19e3f437-53e0-4a1e-f057-f80692d0a760"
   },
   "outputs": [],
   "source": [
    "!pip install -U sentence-transformers\n",
    "!pip install -U transformers\n",
    "!pip install -U faiss-cpu"
   ]
  },
  {
   "cell_type": "code",
   "execution_count": null,
   "id": "MXkPMeKnVrXR",
   "metadata": {
    "colab": {
     "base_uri": "https://localhost:8080/",
     "height": 49,
     "referenced_widgets": [
      "a5a780cdbf4e4b46964c3f328df14c1f",
      "7729bef0eea04b4c9458a0c5a25499af",
      "04b6bd2b3a3e49b8861c86326d1e2547",
      "b64a3e2a569141c787b0f4acc0d72e97",
      "031373de78bb424fa690e6eca410ad94",
      "416c6af85d274640a1b548a7560d985e",
      "574dc832135946be922f238dfdcd1c63",
      "e825c666b1b242adb8d51c512b070aee",
      "ce8a381342a440f2add6827da310b474",
      "035ecc88a2fe49b0ae4354051c5c1051",
      "ae10a9502ef14904953f25e709cd46c4"
     ]
    },
    "id": "MXkPMeKnVrXR",
    "outputId": "72e3238d-1194-4e92-c3ea-249a608b978b"
   },
   "outputs": [],
   "source": [
    "from sentence_transformers import SentenceTransformer\n",
    "\n",
    "\n",
    "model = SentenceTransformer(\"paraphrase-multilingual-MiniLM-L12-v2\")\n",
    "\n",
    "\n",
    "corpus = df[\"content\"].tolist()\n",
    "embeddings = model.encode(corpus, show_progress_bar=True)\n"
   ]
  },
  {
   "cell_type": "code",
   "execution_count": null,
   "id": "uq057H8wVxr-",
   "metadata": {
    "colab": {
     "base_uri": "https://localhost:8080/"
    },
    "id": "uq057H8wVxr-",
    "outputId": "eda6e68a-b191-4fae-bb2e-f115c7049b23"
   },
   "outputs": [],
   "source": [
    "import faiss\n",
    "import numpy as np\n",
    "\n",
    "\n",
    "embedding_dim = embeddings.shape[1]\n",
    "\n",
    "\n",
    "index = faiss.IndexFlatL2(embedding_dim)\n",
    "\n",
    "index.add(np.array(embeddings))\n",
    "\n",
    "faiss.write_index(index, \"delfi_articles.index\")\n",
    "\n",
    "print(\" FAISS index created and saved as 'delfi_articles.index'\")\n"
   ]
  },
  {
   "cell_type": "code",
   "execution_count": null,
   "id": "XWc9AD2cfsm_",
   "metadata": {
    "colab": {
     "base_uri": "https://localhost:8080/"
    },
    "id": "XWc9AD2cfsm_",
    "outputId": "840064e5-ff4b-4fac-961b-d93328ae1226"
   },
   "outputs": [],
   "source": [
    "# Zip directories\n",
    "!zip -r /content/delfi_articles_index.zip /content/delfi_articles.index"
   ]
  },
  {
   "cell_type": "code",
   "execution_count": null,
   "id": "0pD8vGhtf2p9",
   "metadata": {
    "id": "0pD8vGhtf2p9"
   },
   "outputs": [],
   "source": [
    "!unzip -q delfi_articles_index.zip -d delfi_articles_index.index\n"
   ]
  },
  {
   "cell_type": "code",
   "execution_count": null,
   "id": "C5_A4sKZYUCQ",
   "metadata": {
    "colab": {
     "base_uri": "https://localhost:8080/"
    },
    "id": "C5_A4sKZYUCQ",
    "outputId": "b46cc0fb-a79f-4e8b-b876-2c11fa3e3b83"
   },
   "outputs": [],
   "source": [
    "index = faiss.read_index(\"/content/delfi_articles_index.index/content/delfi_articles.index\")\n",
    "def search_articles(query, top_k=5):\n",
    "    query_embedding = model.encode([query])\n",
    "    distances, indices = index.search(np.array(query_embedding), top_k)\n",
    "\n",
    "    print(f\"\\nTop {top_k} results for query: '{query}'\")\n",
    "    for i, idx in enumerate(indices[0]):\n",
    "        print(f\"{i+1}. {df.iloc[idx]['title']}\")\n",
    "        print(f\"   {df.iloc[idx]['url']}\\n\")\n",
    "\n",
    "# Example search\n",
    "search_articles(\"Lithuania defense NATO\")\n"
   ]
  },
  {
   "cell_type": "code",
   "execution_count": null,
   "id": "n6QTZUCba1d3",
   "metadata": {
    "id": "n6QTZUCba1d3"
   },
   "outputs": [],
   "source": [
    "def retrieve_context(query, top_k=5):\n",
    "    query_embedding = model.encode([query])\n",
    "    distances, indices = index.search(np.array(query_embedding), top_k)\n",
    "\n",
    "\n",
    "    context = \"\\n\\n\".join(df.iloc[idx][\"content\"] for idx in indices[0])\n",
    "    return context\n"
   ]
  },
  {
   "cell_type": "code",
   "execution_count": null,
   "id": "lt669KWoa4Is",
   "metadata": {
    "colab": {
     "base_uri": "https://localhost:8080/"
    },
    "id": "lt669KWoa4Is",
    "outputId": "d27dcea2-d0c8-446e-bc19-f5708db7d418"
   },
   "outputs": [],
   "source": [
    "from transformers import pipeline\n",
    "\n",
    "\n",
    "generator = pipeline(\"text2text-generation\", model=\"google/flan-t5-base\")\n",
    "\n",
    "def generate_answer(query, context):\n",
    "    prompt = f\"Context: {context}\\n\\nQuestion: {query}\\nAnswer:\"\n",
    "    result = generator(\n",
    "        prompt,\n",
    "        max_length=512,\n",
    "        min_length=100,\n",
    "        do_sample=True,\n",
    "        temperature=0.8,\n",
    "        truncation=True\n",
    "    )\n",
    "    return result[0]['generated_text']\n"
   ]
  },
  {
   "cell_type": "code",
   "execution_count": null,
   "id": "xVCxOz_2bAdv",
   "metadata": {
    "colab": {
     "base_uri": "https://localhost:8080/"
    },
    "id": "xVCxOz_2bAdv",
    "outputId": "4494b46d-048c-41b4-9490-2f0975268e1c"
   },
   "outputs": [],
   "source": [
    "query = \"What is Lithuania's defense position in NATO?\"\n",
    "\n",
    "\n",
    "context = retrieve_context(query, top_k=3)\n",
    "\n",
    "answer = generate_answer(query, context)\n",
    "\n",
    "print(\"Generated Answer:\\n\")\n",
    "print(answer)\n"
   ]
  },
  {
   "cell_type": "code",
   "execution_count": null,
   "id": "KmX7rATsfIJL",
   "metadata": {
    "colab": {
     "base_uri": "https://localhost:8080/"
    },
    "id": "KmX7rATsfIJL",
    "outputId": "29bc087d-a133-4430-ee10-64d7f7939ef7"
   },
   "outputs": [],
   "source": [
    "query = \"What is latest news in Business?\"\n",
    "\n",
    "\n",
    "context = retrieve_context(query, top_k=3)\n",
    "\n",
    "answer = generate_answer(query, context)\n",
    "\n",
    "print(\"Generated Answer:\\n\")\n",
    "print(answer)\n"
   ]
  },
  {
   "cell_type": "code",
   "execution_count": null,
   "id": "SmuDFZ0CCb5P",
   "metadata": {
    "id": "SmuDFZ0CCb5P"
   },
   "outputs": [],
   "source": []
  }
 ],
 "metadata": {
  "colab": {
   "provenance": []
  },
  "kernelspec": {
   "display_name": "Python 3",
   "name": "python3"
  },
  "language_info": {
   "codemirror_mode": {
    "name": "ipython",
    "version": 2
   },
   "file_extension": ".py",
   "mimetype": "text/x-python",
   "name": "python",
   "nbconvert_exporter": "python",
   "pygments_lexer": "ipython2",
   "version": "2.7.6"
  },
  "widgets": {
   "application/vnd.jupyter.widget-state+json": {
    "031373de78bb424fa690e6eca410ad94": {
     "model_module": "@jupyter-widgets/base",
     "model_module_version": "1.2.0",
     "model_name": "LayoutModel",
     "state": {
      "_model_module": "@jupyter-widgets/base",
      "_model_module_version": "1.2.0",
      "_model_name": "LayoutModel",
      "_view_count": null,
      "_view_module": "@jupyter-widgets/base",
      "_view_module_version": "1.2.0",
      "_view_name": "LayoutView",
      "align_content": null,
      "align_items": null,
      "align_self": null,
      "border": null,
      "bottom": null,
      "display": null,
      "flex": null,
      "flex_flow": null,
      "grid_area": null,
      "grid_auto_columns": null,
      "grid_auto_flow": null,
      "grid_auto_rows": null,
      "grid_column": null,
      "grid_gap": null,
      "grid_row": null,
      "grid_template_areas": null,
      "grid_template_columns": null,
      "grid_template_rows": null,
      "height": null,
      "justify_content": null,
      "justify_items": null,
      "left": null,
      "margin": null,
      "max_height": null,
      "max_width": null,
      "min_height": null,
      "min_width": null,
      "object_fit": null,
      "object_position": null,
      "order": null,
      "overflow": null,
      "overflow_x": null,
      "overflow_y": null,
      "padding": null,
      "right": null,
      "top": null,
      "visibility": null,
      "width": null
     }
    },
    "035ecc88a2fe49b0ae4354051c5c1051": {
     "model_module": "@jupyter-widgets/base",
     "model_module_version": "1.2.0",
     "model_name": "LayoutModel",
     "state": {
      "_model_module": "@jupyter-widgets/base",
      "_model_module_version": "1.2.0",
      "_model_name": "LayoutModel",
      "_view_count": null,
      "_view_module": "@jupyter-widgets/base",
      "_view_module_version": "1.2.0",
      "_view_name": "LayoutView",
      "align_content": null,
      "align_items": null,
      "align_self": null,
      "border": null,
      "bottom": null,
      "display": null,
      "flex": null,
      "flex_flow": null,
      "grid_area": null,
      "grid_auto_columns": null,
      "grid_auto_flow": null,
      "grid_auto_rows": null,
      "grid_column": null,
      "grid_gap": null,
      "grid_row": null,
      "grid_template_areas": null,
      "grid_template_columns": null,
      "grid_template_rows": null,
      "height": null,
      "justify_content": null,
      "justify_items": null,
      "left": null,
      "margin": null,
      "max_height": null,
      "max_width": null,
      "min_height": null,
      "min_width": null,
      "object_fit": null,
      "object_position": null,
      "order": null,
      "overflow": null,
      "overflow_x": null,
      "overflow_y": null,
      "padding": null,
      "right": null,
      "top": null,
      "visibility": null,
      "width": null
     }
    },
    "04b6bd2b3a3e49b8861c86326d1e2547": {
     "model_module": "@jupyter-widgets/controls",
     "model_module_version": "1.5.0",
     "model_name": "FloatProgressModel",
     "state": {
      "_dom_classes": [],
      "_model_module": "@jupyter-widgets/controls",
      "_model_module_version": "1.5.0",
      "_model_name": "FloatProgressModel",
      "_view_count": null,
      "_view_module": "@jupyter-widgets/controls",
      "_view_module_version": "1.5.0",
      "_view_name": "ProgressView",
      "bar_style": "success",
      "description": "",
      "description_tooltip": null,
      "layout": "IPY_MODEL_e825c666b1b242adb8d51c512b070aee",
      "max": 157,
      "min": 0,
      "orientation": "horizontal",
      "style": "IPY_MODEL_ce8a381342a440f2add6827da310b474",
      "value": 157
     }
    },
    "416c6af85d274640a1b548a7560d985e": {
     "model_module": "@jupyter-widgets/base",
     "model_module_version": "1.2.0",
     "model_name": "LayoutModel",
     "state": {
      "_model_module": "@jupyter-widgets/base",
      "_model_module_version": "1.2.0",
      "_model_name": "LayoutModel",
      "_view_count": null,
      "_view_module": "@jupyter-widgets/base",
      "_view_module_version": "1.2.0",
      "_view_name": "LayoutView",
      "align_content": null,
      "align_items": null,
      "align_self": null,
      "border": null,
      "bottom": null,
      "display": null,
      "flex": null,
      "flex_flow": null,
      "grid_area": null,
      "grid_auto_columns": null,
      "grid_auto_flow": null,
      "grid_auto_rows": null,
      "grid_column": null,
      "grid_gap": null,
      "grid_row": null,
      "grid_template_areas": null,
      "grid_template_columns": null,
      "grid_template_rows": null,
      "height": null,
      "justify_content": null,
      "justify_items": null,
      "left": null,
      "margin": null,
      "max_height": null,
      "max_width": null,
      "min_height": null,
      "min_width": null,
      "object_fit": null,
      "object_position": null,
      "order": null,
      "overflow": null,
      "overflow_x": null,
      "overflow_y": null,
      "padding": null,
      "right": null,
      "top": null,
      "visibility": null,
      "width": null
     }
    },
    "574dc832135946be922f238dfdcd1c63": {
     "model_module": "@jupyter-widgets/controls",
     "model_module_version": "1.5.0",
     "model_name": "DescriptionStyleModel",
     "state": {
      "_model_module": "@jupyter-widgets/controls",
      "_model_module_version": "1.5.0",
      "_model_name": "DescriptionStyleModel",
      "_view_count": null,
      "_view_module": "@jupyter-widgets/base",
      "_view_module_version": "1.2.0",
      "_view_name": "StyleView",
      "description_width": ""
     }
    },
    "7729bef0eea04b4c9458a0c5a25499af": {
     "model_module": "@jupyter-widgets/controls",
     "model_module_version": "1.5.0",
     "model_name": "HTMLModel",
     "state": {
      "_dom_classes": [],
      "_model_module": "@jupyter-widgets/controls",
      "_model_module_version": "1.5.0",
      "_model_name": "HTMLModel",
      "_view_count": null,
      "_view_module": "@jupyter-widgets/controls",
      "_view_module_version": "1.5.0",
      "_view_name": "HTMLView",
      "description": "",
      "description_tooltip": null,
      "layout": "IPY_MODEL_416c6af85d274640a1b548a7560d985e",
      "placeholder": "​",
      "style": "IPY_MODEL_574dc832135946be922f238dfdcd1c63",
      "value": "Batches: 100%"
     }
    },
    "a5a780cdbf4e4b46964c3f328df14c1f": {
     "model_module": "@jupyter-widgets/controls",
     "model_module_version": "1.5.0",
     "model_name": "HBoxModel",
     "state": {
      "_dom_classes": [],
      "_model_module": "@jupyter-widgets/controls",
      "_model_module_version": "1.5.0",
      "_model_name": "HBoxModel",
      "_view_count": null,
      "_view_module": "@jupyter-widgets/controls",
      "_view_module_version": "1.5.0",
      "_view_name": "HBoxView",
      "box_style": "",
      "children": [
       "IPY_MODEL_7729bef0eea04b4c9458a0c5a25499af",
       "IPY_MODEL_04b6bd2b3a3e49b8861c86326d1e2547",
       "IPY_MODEL_b64a3e2a569141c787b0f4acc0d72e97"
      ],
      "layout": "IPY_MODEL_031373de78bb424fa690e6eca410ad94"
     }
    },
    "ae10a9502ef14904953f25e709cd46c4": {
     "model_module": "@jupyter-widgets/controls",
     "model_module_version": "1.5.0",
     "model_name": "DescriptionStyleModel",
     "state": {
      "_model_module": "@jupyter-widgets/controls",
      "_model_module_version": "1.5.0",
      "_model_name": "DescriptionStyleModel",
      "_view_count": null,
      "_view_module": "@jupyter-widgets/base",
      "_view_module_version": "1.2.0",
      "_view_name": "StyleView",
      "description_width": ""
     }
    },
    "b64a3e2a569141c787b0f4acc0d72e97": {
     "model_module": "@jupyter-widgets/controls",
     "model_module_version": "1.5.0",
     "model_name": "HTMLModel",
     "state": {
      "_dom_classes": [],
      "_model_module": "@jupyter-widgets/controls",
      "_model_module_version": "1.5.0",
      "_model_name": "HTMLModel",
      "_view_count": null,
      "_view_module": "@jupyter-widgets/controls",
      "_view_module_version": "1.5.0",
      "_view_name": "HTMLView",
      "description": "",
      "description_tooltip": null,
      "layout": "IPY_MODEL_035ecc88a2fe49b0ae4354051c5c1051",
      "placeholder": "​",
      "style": "IPY_MODEL_ae10a9502ef14904953f25e709cd46c4",
      "value": " 157/157 [09:28&lt;00:00,  1.18it/s]"
     }
    },
    "ce8a381342a440f2add6827da310b474": {
     "model_module": "@jupyter-widgets/controls",
     "model_module_version": "1.5.0",
     "model_name": "ProgressStyleModel",
     "state": {
      "_model_module": "@jupyter-widgets/controls",
      "_model_module_version": "1.5.0",
      "_model_name": "ProgressStyleModel",
      "_view_count": null,
      "_view_module": "@jupyter-widgets/base",
      "_view_module_version": "1.2.0",
      "_view_name": "StyleView",
      "bar_color": null,
      "description_width": ""
     }
    },
    "e825c666b1b242adb8d51c512b070aee": {
     "model_module": "@jupyter-widgets/base",
     "model_module_version": "1.2.0",
     "model_name": "LayoutModel",
     "state": {
      "_model_module": "@jupyter-widgets/base",
      "_model_module_version": "1.2.0",
      "_model_name": "LayoutModel",
      "_view_count": null,
      "_view_module": "@jupyter-widgets/base",
      "_view_module_version": "1.2.0",
      "_view_name": "LayoutView",
      "align_content": null,
      "align_items": null,
      "align_self": null,
      "border": null,
      "bottom": null,
      "display": null,
      "flex": null,
      "flex_flow": null,
      "grid_area": null,
      "grid_auto_columns": null,
      "grid_auto_flow": null,
      "grid_auto_rows": null,
      "grid_column": null,
      "grid_gap": null,
      "grid_row": null,
      "grid_template_areas": null,
      "grid_template_columns": null,
      "grid_template_rows": null,
      "height": null,
      "justify_content": null,
      "justify_items": null,
      "left": null,
      "margin": null,
      "max_height": null,
      "max_width": null,
      "min_height": null,
      "min_width": null,
      "object_fit": null,
      "object_position": null,
      "order": null,
      "overflow": null,
      "overflow_x": null,
      "overflow_y": null,
      "padding": null,
      "right": null,
      "top": null,
      "visibility": null,
      "width": null
     }
    }
   }
  }
 },
 "nbformat": 4,
 "nbformat_minor": 5
}
