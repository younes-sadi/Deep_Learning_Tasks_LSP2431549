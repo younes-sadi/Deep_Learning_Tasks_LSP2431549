{
  "cells": [
    {
      "cell_type": "markdown",
      "metadata": {
        "id": "view-in-github",
        "colab_type": "text"
      },
      "source": [
        "<a href=\"https://colab.research.google.com/github/younes-sadi/semantic-search-task2-LSP2431549/blob/main/Belkacem_Sadi_Task2_DL.ipynb\" target=\"_parent\"><img src=\"https://colab.research.google.com/assets/colab-badge.svg\" alt=\"Open In Colab\"/></a>"
      ]
    },
    {
      "cell_type": "markdown",
      "metadata": {
        "id": "Y8pJT7qKEIc6"
      },
      "source": [
        "Belkacem Sadi LSP_Id: 2431549 Task_2"
      ]
    },
    {
      "cell_type": "markdown",
      "source": [
        "This project uses Retrieval-Augmented Generation (RAG) by embedding 5,000 real news articles using a transformer (MiniLM), storing the vectors in FAISS, retrieving top-k relevant entries for a user query, and generating a final answer using T5. The pipeline mimics the internal architecture of models like facebook/rag-sequence-nq while remaining lightweight and Colab-friendly"
      ],
      "metadata": {
        "id": "Y2zlg5AgHpw6"
      }
    },
    {
      "cell_type": "code",
      "execution_count": 1,
      "metadata": {
        "id": "zN2zffzjyH5v"
      },
      "outputs": [],
      "source": [
        "!pip install -q datasets==2.16.0\n",
        "!pip install -q transformers sentence-transformers faiss-cpu\n"
      ]
    },
    {
      "cell_type": "code",
      "execution_count": null,
      "metadata": {
        "id": "Y7d9wtIFySdR"
      },
      "outputs": [],
      "source": [
        "!pip install -q datasets==2.16.0\n",
        "!pip install -q transformers sentence-transformers faiss-cpu\n",
        "\n",
        "from datasets import load_dataset\n",
        "\n",
        "dataset = load_dataset(\"ag_news\", split=\"train[:5000]\")\n",
        "texts = [x[\"text\"] for x in dataset]\n"
      ]
    },
    {
      "cell_type": "code",
      "execution_count": 3,
      "metadata": {
        "id": "gAvfsDP860-G"
      },
      "outputs": [],
      "source": [
        "\n",
        "import pandas as pd\n",
        "\n",
        "df = pd.DataFrame({\"text\": texts})\n",
        "df.to_csv(\"ag_news_5000.csv\", index=False)\n"
      ]
    },
    {
      "cell_type": "code",
      "execution_count": 4,
      "metadata": {
        "id": "LhfEFN7opPSt",
        "colab": {
          "base_uri": "https://localhost:8080/",
          "height": 17,
          "referenced_widgets": [
            "cac67c0d35df416f987e09aa3f594320",
            "934f5b16c639483382bb35e35715bb44",
            "7fa452f7c8464ecd90c5a11e786d6f1a",
            "1a7b2c7a940747e6a16a3e2d7bddcbe3",
            "7726e710d4e94e41bf119b5edb0527f0",
            "7974a68ba4f249cbb8644454c1b44648",
            "5fdccca9ef73459ea4d3234f44508e99",
            "9a574439ff0b4192b20258cdca592bae",
            "99f759a6942643c5b85ce7ac4c22f437",
            "3c22c663da704fb596c95cf3a074e108",
            "4201cf1294b149a4b6d87fa043a4b310"
          ]
        },
        "outputId": "d3098ec3-8721-47cd-99ca-7bf48a3d0ad2"
      },
      "outputs": [
        {
          "output_type": "display_data",
          "data": {
            "text/plain": [
              "Batches:   0%|          | 0/157 [00:00<?, ?it/s]"
            ],
            "application/vnd.jupyter.widget-view+json": {
              "version_major": 2,
              "version_minor": 0,
              "model_id": "cac67c0d35df416f987e09aa3f594320"
            }
          },
          "metadata": {}
        }
      ],
      "source": [
        "\n",
        "from sentence_transformers import SentenceTransformer\n",
        "import faiss\n",
        "import numpy as np\n",
        "\n",
        "encoder = SentenceTransformer(\"all-MiniLM-L6-v2\")\n",
        "embeddings = encoder.encode(texts, convert_to_numpy=True, show_progress_bar=True)\n",
        "\n",
        "index = faiss.IndexFlatL2(embeddings.shape[1])\n",
        "index.add(embeddings)\n"
      ]
    },
    {
      "cell_type": "code",
      "execution_count": 11,
      "metadata": {
        "id": "_y_2XHkZ4Avx"
      },
      "outputs": [],
      "source": [
        "\n",
        "from transformers import T5ForConditionalGeneration, T5Tokenizer\n",
        "\n",
        "#  small generator model\n",
        "tokenizer = T5Tokenizer.from_pretrained(\"t5-small\")\n",
        "generator = T5ForConditionalGeneration.from_pretrained(\"t5-small\")\n",
        "\n",
        "query = \"What are the latest innovations in AI?\"\n",
        "query_embedding = encoder.encode([query], convert_to_numpy=True)\n",
        "D, I = index.search(query_embedding, k=3)\n",
        "\n",
        "# Combine top 3 results into a context\n",
        "context = \" \".join(texts[i] for i in I[0])\n",
        "prompt = f\"question: {query} context: {context}\"\n",
        "\n",
        "inputs = tokenizer(prompt, return_tensors=\"pt\", truncation=True)\n",
        "outputs = generator.generate(**inputs)\n"
      ]
    },
    {
      "cell_type": "code",
      "source": [
        "print(\"=== Answer ===\")\n",
        "print(tokenizer.decode(outputs[0], skip_special_tokens=True))\n"
      ],
      "metadata": {
        "colab": {
          "base_uri": "https://localhost:8080/"
        },
        "id": "t-y7mMyfPDAh",
        "outputId": "039be0d0-8b8a-4a59-bf71-88fdc01e6ea0"
      },
      "execution_count": 12,
      "outputs": [
        {
          "output_type": "stream",
          "name": "stdout",
          "text": [
            "=== Answer ===\n",
            "micro flyer\n"
          ]
        }
      ]
    },
    {
      "cell_type": "code",
      "execution_count": null,
      "metadata": {
        "id": "QcpeyJlLySNK"
      },
      "outputs": [],
      "source": [
        "from transformers import T5ForConditionalGeneration, T5Tokenizer\n",
        "\n",
        "#  t5-large\n",
        "tokenizer = T5Tokenizer.from_pretrained(\"t5-large\")\n",
        "generator = T5ForConditionalGeneration.from_pretrained(\"t5-large\")\n",
        "\n",
        "query = \"What are the latest news of sport \"\n",
        "\n",
        "query_embedding = encoder.encode([query], convert_to_numpy=True)\n",
        "\n",
        "D, I = index.search(query_embedding, k=5)\n",
        "\n",
        "# top 5\n",
        "context = \" \".join(texts[i] for i in I[0])\n",
        "\n",
        "prompt = f\"question: {query} context: {context}\"\n",
        "\n",
        "#  Tokenize the prompt\n",
        "inputs = tokenizer(prompt, return_tensors=\"pt\", truncation=True)\n",
        "\n",
        "outputs = generator.generate(\n",
        "    input_ids=inputs[\"input_ids\"],\n",
        "    max_length=300,\n",
        "    min_length=50,\n",
        "    length_penalty=1.2,\n",
        "    num_beams=4,\n",
        "    early_stopping=True\n",
        ")\n"
      ]
    },
    {
      "cell_type": "code",
      "source": [
        "#  Decode\n",
        "print(\"=== Answer ===\")\n",
        "print(tokenizer.decode(outputs[0], skip_special_tokens=True))\n"
      ],
      "metadata": {
        "colab": {
          "base_uri": "https://localhost:8080/"
        },
        "id": "24LQesNFO8Yg",
        "outputId": "35b96cd8-18c6-470f-8439-7cacf0aad3aa"
      },
      "execution_count": 16,
      "outputs": [
        {
          "output_type": "stream",
          "name": "stdout",
          "text": [
            "=== Answer ===\n",
            "Weight of drugs felt Weightlifting #39;s aggressive pursuit of drug cheaters will continue even if it jeopardizes its future in the Olympics, its top official said yesterday following six more positive doping cases in what is again becoming the Games #39; dirtiest sport\n"
          ]
        }
      ]
    }
  ],
  "metadata": {
    "colab": {
      "provenance": [],
      "authorship_tag": "ABX9TyNJsirr1wNDy2lfoINs1Tkm",
      "include_colab_link": true
    },
    "kernelspec": {
      "display_name": "Python 3",
      "name": "python3"
    },
    "language_info": {
      "name": "python"
    },
    "widgets": {
      "application/vnd.jupyter.widget-state+json": {
        "cac67c0d35df416f987e09aa3f594320": {
          "model_module": "@jupyter-widgets/controls",
          "model_name": "HBoxModel",
          "model_module_version": "2.0.0",
          "state": {
            "_dom_classes": [],
            "_model_module": "@jupyter-widgets/controls",
            "_model_module_version": "2.0.0",
            "_model_name": "HBoxModel",
            "_view_count": null,
            "_view_module": "@jupyter-widgets/controls",
            "_view_module_version": "2.0.0",
            "_view_name": "HBoxView",
            "box_style": "",
            "children": [
              "IPY_MODEL_934f5b16c639483382bb35e35715bb44",
              "IPY_MODEL_7fa452f7c8464ecd90c5a11e786d6f1a",
              "IPY_MODEL_1a7b2c7a940747e6a16a3e2d7bddcbe3"
            ],
            "layout": "IPY_MODEL_7726e710d4e94e41bf119b5edb0527f0",
            "tabbable": null,
            "tooltip": null
          }
        },
        "934f5b16c639483382bb35e35715bb44": {
          "model_module": "@jupyter-widgets/controls",
          "model_name": "HTMLModel",
          "model_module_version": "2.0.0",
          "state": {
            "_dom_classes": [],
            "_model_module": "@jupyter-widgets/controls",
            "_model_module_version": "2.0.0",
            "_model_name": "HTMLModel",
            "_view_count": null,
            "_view_module": "@jupyter-widgets/controls",
            "_view_module_version": "2.0.0",
            "_view_name": "HTMLView",
            "description": "",
            "description_allow_html": false,
            "layout": "IPY_MODEL_7974a68ba4f249cbb8644454c1b44648",
            "placeholder": "​",
            "style": "IPY_MODEL_5fdccca9ef73459ea4d3234f44508e99",
            "tabbable": null,
            "tooltip": null,
            "value": "Batches: 100%"
          }
        },
        "7fa452f7c8464ecd90c5a11e786d6f1a": {
          "model_module": "@jupyter-widgets/controls",
          "model_name": "FloatProgressModel",
          "model_module_version": "2.0.0",
          "state": {
            "_dom_classes": [],
            "_model_module": "@jupyter-widgets/controls",
            "_model_module_version": "2.0.0",
            "_model_name": "FloatProgressModel",
            "_view_count": null,
            "_view_module": "@jupyter-widgets/controls",
            "_view_module_version": "2.0.0",
            "_view_name": "ProgressView",
            "bar_style": "success",
            "description": "",
            "description_allow_html": false,
            "layout": "IPY_MODEL_9a574439ff0b4192b20258cdca592bae",
            "max": 157,
            "min": 0,
            "orientation": "horizontal",
            "style": "IPY_MODEL_99f759a6942643c5b85ce7ac4c22f437",
            "tabbable": null,
            "tooltip": null,
            "value": 157
          }
        },
        "1a7b2c7a940747e6a16a3e2d7bddcbe3": {
          "model_module": "@jupyter-widgets/controls",
          "model_name": "HTMLModel",
          "model_module_version": "2.0.0",
          "state": {
            "_dom_classes": [],
            "_model_module": "@jupyter-widgets/controls",
            "_model_module_version": "2.0.0",
            "_model_name": "HTMLModel",
            "_view_count": null,
            "_view_module": "@jupyter-widgets/controls",
            "_view_module_version": "2.0.0",
            "_view_name": "HTMLView",
            "description": "",
            "description_allow_html": false,
            "layout": "IPY_MODEL_3c22c663da704fb596c95cf3a074e108",
            "placeholder": "​",
            "style": "IPY_MODEL_4201cf1294b149a4b6d87fa043a4b310",
            "tabbable": null,
            "tooltip": null,
            "value": " 157/157 [03:14&lt;00:00,  2.41it/s]"
          }
        },
        "7726e710d4e94e41bf119b5edb0527f0": {
          "model_module": "@jupyter-widgets/base",
          "model_name": "LayoutModel",
          "model_module_version": "2.0.0",
          "state": {
            "_model_module": "@jupyter-widgets/base",
            "_model_module_version": "2.0.0",
            "_model_name": "LayoutModel",
            "_view_count": null,
            "_view_module": "@jupyter-widgets/base",
            "_view_module_version": "2.0.0",
            "_view_name": "LayoutView",
            "align_content": null,
            "align_items": null,
            "align_self": null,
            "border_bottom": null,
            "border_left": null,
            "border_right": null,
            "border_top": null,
            "bottom": null,
            "display": null,
            "flex": null,
            "flex_flow": null,
            "grid_area": null,
            "grid_auto_columns": null,
            "grid_auto_flow": null,
            "grid_auto_rows": null,
            "grid_column": null,
            "grid_gap": null,
            "grid_row": null,
            "grid_template_areas": null,
            "grid_template_columns": null,
            "grid_template_rows": null,
            "height": null,
            "justify_content": null,
            "justify_items": null,
            "left": null,
            "margin": null,
            "max_height": null,
            "max_width": null,
            "min_height": null,
            "min_width": null,
            "object_fit": null,
            "object_position": null,
            "order": null,
            "overflow": null,
            "padding": null,
            "right": null,
            "top": null,
            "visibility": null,
            "width": null
          }
        },
        "7974a68ba4f249cbb8644454c1b44648": {
          "model_module": "@jupyter-widgets/base",
          "model_name": "LayoutModel",
          "model_module_version": "2.0.0",
          "state": {
            "_model_module": "@jupyter-widgets/base",
            "_model_module_version": "2.0.0",
            "_model_name": "LayoutModel",
            "_view_count": null,
            "_view_module": "@jupyter-widgets/base",
            "_view_module_version": "2.0.0",
            "_view_name": "LayoutView",
            "align_content": null,
            "align_items": null,
            "align_self": null,
            "border_bottom": null,
            "border_left": null,
            "border_right": null,
            "border_top": null,
            "bottom": null,
            "display": null,
            "flex": null,
            "flex_flow": null,
            "grid_area": null,
            "grid_auto_columns": null,
            "grid_auto_flow": null,
            "grid_auto_rows": null,
            "grid_column": null,
            "grid_gap": null,
            "grid_row": null,
            "grid_template_areas": null,
            "grid_template_columns": null,
            "grid_template_rows": null,
            "height": null,
            "justify_content": null,
            "justify_items": null,
            "left": null,
            "margin": null,
            "max_height": null,
            "max_width": null,
            "min_height": null,
            "min_width": null,
            "object_fit": null,
            "object_position": null,
            "order": null,
            "overflow": null,
            "padding": null,
            "right": null,
            "top": null,
            "visibility": null,
            "width": null
          }
        },
        "5fdccca9ef73459ea4d3234f44508e99": {
          "model_module": "@jupyter-widgets/controls",
          "model_name": "HTMLStyleModel",
          "model_module_version": "2.0.0",
          "state": {
            "_model_module": "@jupyter-widgets/controls",
            "_model_module_version": "2.0.0",
            "_model_name": "HTMLStyleModel",
            "_view_count": null,
            "_view_module": "@jupyter-widgets/base",
            "_view_module_version": "2.0.0",
            "_view_name": "StyleView",
            "background": null,
            "description_width": "",
            "font_size": null,
            "text_color": null
          }
        },
        "9a574439ff0b4192b20258cdca592bae": {
          "model_module": "@jupyter-widgets/base",
          "model_name": "LayoutModel",
          "model_module_version": "2.0.0",
          "state": {
            "_model_module": "@jupyter-widgets/base",
            "_model_module_version": "2.0.0",
            "_model_name": "LayoutModel",
            "_view_count": null,
            "_view_module": "@jupyter-widgets/base",
            "_view_module_version": "2.0.0",
            "_view_name": "LayoutView",
            "align_content": null,
            "align_items": null,
            "align_self": null,
            "border_bottom": null,
            "border_left": null,
            "border_right": null,
            "border_top": null,
            "bottom": null,
            "display": null,
            "flex": null,
            "flex_flow": null,
            "grid_area": null,
            "grid_auto_columns": null,
            "grid_auto_flow": null,
            "grid_auto_rows": null,
            "grid_column": null,
            "grid_gap": null,
            "grid_row": null,
            "grid_template_areas": null,
            "grid_template_columns": null,
            "grid_template_rows": null,
            "height": null,
            "justify_content": null,
            "justify_items": null,
            "left": null,
            "margin": null,
            "max_height": null,
            "max_width": null,
            "min_height": null,
            "min_width": null,
            "object_fit": null,
            "object_position": null,
            "order": null,
            "overflow": null,
            "padding": null,
            "right": null,
            "top": null,
            "visibility": null,
            "width": null
          }
        },
        "99f759a6942643c5b85ce7ac4c22f437": {
          "model_module": "@jupyter-widgets/controls",
          "model_name": "ProgressStyleModel",
          "model_module_version": "2.0.0",
          "state": {
            "_model_module": "@jupyter-widgets/controls",
            "_model_module_version": "2.0.0",
            "_model_name": "ProgressStyleModel",
            "_view_count": null,
            "_view_module": "@jupyter-widgets/base",
            "_view_module_version": "2.0.0",
            "_view_name": "StyleView",
            "bar_color": null,
            "description_width": ""
          }
        },
        "3c22c663da704fb596c95cf3a074e108": {
          "model_module": "@jupyter-widgets/base",
          "model_name": "LayoutModel",
          "model_module_version": "2.0.0",
          "state": {
            "_model_module": "@jupyter-widgets/base",
            "_model_module_version": "2.0.0",
            "_model_name": "LayoutModel",
            "_view_count": null,
            "_view_module": "@jupyter-widgets/base",
            "_view_module_version": "2.0.0",
            "_view_name": "LayoutView",
            "align_content": null,
            "align_items": null,
            "align_self": null,
            "border_bottom": null,
            "border_left": null,
            "border_right": null,
            "border_top": null,
            "bottom": null,
            "display": null,
            "flex": null,
            "flex_flow": null,
            "grid_area": null,
            "grid_auto_columns": null,
            "grid_auto_flow": null,
            "grid_auto_rows": null,
            "grid_column": null,
            "grid_gap": null,
            "grid_row": null,
            "grid_template_areas": null,
            "grid_template_columns": null,
            "grid_template_rows": null,
            "height": null,
            "justify_content": null,
            "justify_items": null,
            "left": null,
            "margin": null,
            "max_height": null,
            "max_width": null,
            "min_height": null,
            "min_width": null,
            "object_fit": null,
            "object_position": null,
            "order": null,
            "overflow": null,
            "padding": null,
            "right": null,
            "top": null,
            "visibility": null,
            "width": null
          }
        },
        "4201cf1294b149a4b6d87fa043a4b310": {
          "model_module": "@jupyter-widgets/controls",
          "model_name": "HTMLStyleModel",
          "model_module_version": "2.0.0",
          "state": {
            "_model_module": "@jupyter-widgets/controls",
            "_model_module_version": "2.0.0",
            "_model_name": "HTMLStyleModel",
            "_view_count": null,
            "_view_module": "@jupyter-widgets/base",
            "_view_module_version": "2.0.0",
            "_view_name": "StyleView",
            "background": null,
            "description_width": "",
            "font_size": null,
            "text_color": null
          }
        }
      }
    }
  },
  "nbformat": 4,
  "nbformat_minor": 0
}